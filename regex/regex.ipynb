{
 "cells": [
  {
   "cell_type": "markdown",
   "metadata": {},
   "source": [
    "# 單一個字範例"
   ]
  },
  {
   "cell_type": "code",
   "execution_count": 1,
   "metadata": {},
   "outputs": [
    {
     "name": "stdout",
     "output_type": "stream",
     "text": [
      "['is', 'is']\n"
     ]
    }
   ],
   "source": [
    "import re\n",
    "\n",
    "pattern = r'is'\n",
    "string = \"This is a apple\"\n",
    "match = re.findall(pattern, string)\n",
    "print(match)"
   ]
  },
  {
   "cell_type": "markdown",
   "metadata": {},
   "source": [
    "# 特殊字元要加 \\ 跳脫\n",
    "[\\^$.|?*+()"
   ]
  },
  {
   "cell_type": "code",
   "execution_count": 2,
   "metadata": {},
   "outputs": [
    {
     "name": "stdout",
     "output_type": "stream",
     "text": [
      "['1+2=3']\n"
     ]
    }
   ],
   "source": [
    "string = \"1+2=3\"\n",
    "pattern = r'1\\+2=3'\n",
    "match = re.findall(pattern, string)\n",
    "print(match)"
   ]
  },
  {
   "cell_type": "markdown",
   "metadata": {},
   "source": [
    "# 任意字元 ."
   ]
  },
  {
   "cell_type": "code",
   "execution_count": 10,
   "metadata": {},
   "outputs": [
    {
     "name": "stdout",
     "output_type": "stream",
     "text": [
      "['a man']\n"
     ]
    }
   ],
   "source": [
    "pattern = r'a.man'\n",
    "string = \"I'm a man\"\n",
    "match = re.findall(pattern, string)\n",
    "print(match)"
   ]
  },
  {
   "cell_type": "code",
   "execution_count": 9,
   "metadata": {},
   "outputs": [
    {
     "name": "stdout",
     "output_type": "stream",
     "text": [
      "['ba', 'na', 'na']\n"
     ]
    }
   ],
   "source": [
    "pattern = r'.a'\n",
    "string = \"banana\"\n",
    "match = re.findall(pattern, string)\n",
    "print(match)"
   ]
  },
  {
   "cell_type": "markdown",
   "metadata": {},
   "source": [
    "# 多個字元 []"
   ]
  },
  {
   "cell_type": "code",
   "execution_count": 7,
   "metadata": {},
   "outputs": [
    {
     "name": "stdout",
     "output_type": "stream",
     "text": [
      "['A', 'a']\n"
     ]
    }
   ],
   "source": [
    "pattern = r'[aA]'\n",
    "string = \"A apple\"\n",
    "match = re.findall(pattern, string)\n",
    "print(match)"
   ]
  },
  {
   "cell_type": "code",
   "execution_count": 8,
   "metadata": {},
   "outputs": [
    {
     "name": "stdout",
     "output_type": "stream",
     "text": [
      "['e', 'e', 'i', 'a', 'a', 'e']\n"
     ]
    }
   ],
   "source": [
    "pattern = r'[aeiou]'\n",
    "string = \"There is a apple\"\n",
    "match = re.findall(pattern, string)\n",
    "print(match)"
   ]
  },
  {
   "cell_type": "markdown",
   "metadata": {},
   "source": [
    "# 多個字元 - 連續\n",
    "\n",
    "a-zA-Z 要分開寫，而不能直接寫 a-Z 因為 ascii code 裡在 z 到 A 之間有夾雜其他字元"
   ]
  },
  {
   "cell_type": "code",
   "execution_count": 11,
   "metadata": {},
   "outputs": [
    {
     "name": "stdout",
     "output_type": "stream",
     "text": [
      "['h', 'e', 'r', 'e', 'i', 's', 'a', 'a', 'p', 'p', 'l', 'e']\n"
     ]
    }
   ],
   "source": [
    "pattern = r'[a-z]' # 等同 [abcdefghijklmnopqrstuvwxyz]\n",
    "string = \"There is a apple\"\n",
    "match = re.findall(pattern, string)\n",
    "print(match)"
   ]
  },
  {
   "cell_type": "code",
   "execution_count": 13,
   "metadata": {},
   "outputs": [
    {
     "name": "stdout",
     "output_type": "stream",
     "text": [
      "['I', 'a', 'm', 'y', 'e', 'a', 'r', 's', 'o', 'l', 'd']\n"
     ]
    }
   ],
   "source": [
    "pattern = r'[a-zA-Z]'\n",
    "string = \"I'am 20 years old.\"\n",
    "match = re.findall(pattern, string)\n",
    "print(match)"
   ]
  },
  {
   "cell_type": "code",
   "execution_count": 14,
   "metadata": {},
   "outputs": [
    {
     "name": "stdout",
     "output_type": "stream",
     "text": [
      "['8', '8', '7', '6']\n"
     ]
    }
   ],
   "source": [
    "pattern = r'[5-8]' # 等同 [5678]\n",
    "string = \"0980987163\"\n",
    "match = re.findall(pattern, string)\n",
    "print(match)"
   ]
  },
  {
   "cell_type": "markdown",
   "metadata": {},
   "source": [
    "# 多個字元 ^ 不是 xx"
   ]
  },
  {
   "cell_type": "code",
   "execution_count": 15,
   "metadata": {},
   "outputs": [
    {
     "name": "stdout",
     "output_type": "stream",
     "text": [
      "['T', 'h', 'e', 'r', 'e', ' ', 'i', 's', ' ', ' ', 'A', 'p', 'p', 'l', 'e', ' ', '1', '2', '3']\n"
     ]
    }
   ],
   "source": [
    "\n",
    "pattern = r'[^a]' # not a 的其他字元\n",
    "string = \"There is a Apple 123\"\n",
    "match = re.findall(pattern, string)\n",
    "print(match)"
   ]
  },
  {
   "cell_type": "code",
   "execution_count": 16,
   "metadata": {},
   "outputs": [
    {
     "name": "stdout",
     "output_type": "stream",
     "text": [
      "['I', \"'\", 'a', 'm', ' ', ' ', 'y', 'e', 'a', 'r', 's', ' ', 'o', 'l', 'd', '.']\n"
     ]
    }
   ],
   "source": [
    "pattern = r'[^0-9]'\n",
    "string = \"I'am 20 years old.\"\n",
    "match = re.findall(pattern, string)\n",
    "print(match)"
   ]
  },
  {
   "cell_type": "markdown",
   "metadata": {},
   "source": [
    "# 多個字元的縮寫\n",
    "\\d - digit [0-9]\n",
    "\\w - word [A-Za-z0-9_]\n",
    "\\s - space [\\n\\r\\t]"
   ]
  },
  {
   "cell_type": "code",
   "execution_count": 17,
   "metadata": {},
   "outputs": [
    {
     "name": "stdout",
     "output_type": "stream",
     "text": [
      "['he', 're', 'le']\n"
     ]
    }
   ],
   "source": [
    "pattern = r'\\we'\n",
    "string = \"There is a apple\"\n",
    "match = re.findall(pattern, string)\n",
    "print(match)"
   ]
  },
  {
   "cell_type": "code",
   "execution_count": 18,
   "metadata": {},
   "outputs": [
    {
     "name": "stdout",
     "output_type": "stream",
     "text": [
      "['20']\n"
     ]
    }
   ],
   "source": [
    "pattern = r'\\d\\d' # 其實等於 \\d{2}  (次數的概念)\n",
    "string = \"I'am 20 5 years old.\"\n",
    "match = re.findall(pattern, string)\n",
    "print(match)"
   ]
  },
  {
   "cell_type": "markdown",
   "metadata": {},
   "source": [
    "# 多個字元縮寫 non\n",
    "\\D - non-digit [^\\d]\n",
    "\\W - non-word [^\\w]\n",
    "\\S - non-space [^\\s]"
   ]
  },
  {
   "cell_type": "code",
   "execution_count": 19,
   "metadata": {},
   "outputs": [
    {
     "name": "stdout",
     "output_type": "stream",
     "text": [
      "[\"'\", ' ', ' ', ' ', '.']\n"
     ]
    }
   ],
   "source": [
    "pattern = r'\\W' \n",
    "string = \"I'am 20 years old.\"\n",
    "match = re.findall(pattern, string)\n",
    "print(match)"
   ]
  },
  {
   "cell_type": "code",
   "execution_count": 20,
   "metadata": {},
   "outputs": [
    {
     "name": "stdout",
     "output_type": "stream",
     "text": [
      "['+', '=']\n"
     ]
    }
   ],
   "source": [
    "string = \"1+2=3\"\n",
    "pattern = r'\\D' # 等同 r'[^\\d]'\n",
    "match = re.findall(pattern, string)\n",
    "print(match)"
   ]
  },
  {
   "cell_type": "markdown",
   "metadata": {},
   "source": [
    "# 出現次數\n",
    "*  任意次數\n",
    "+ 至少一次\n",
    "?  零或一次"
   ]
  },
  {
   "cell_type": "code",
   "execution_count": 22,
   "metadata": {},
   "outputs": [
    {
     "name": "stdout",
     "output_type": "stream",
     "text": [
      "['', '', 'll', '', '', '', '', '', 'l', '', '']\n"
     ]
    }
   ],
   "source": [
    "string = \"Hello World\"\n",
    "pattern = r'l*' # 等同 r'[^\\d]'\n",
    "match = re.findall(pattern, string)\n",
    "print(match)\n",
    "\n",
    "#奇怪不懂為何空白也會進來"
   ]
  },
  {
   "cell_type": "code",
   "execution_count": 23,
   "metadata": {},
   "outputs": [
    {
     "name": "stdout",
     "output_type": "stream",
     "text": [
      "['a', 'na', 'na']\n"
     ]
    }
   ],
   "source": [
    "string = \"banana\"\n",
    "pattern = r'n?a'\n",
    "match = re.findall(pattern, string)\n",
    "print(match)"
   ]
  },
  {
   "cell_type": "markdown",
   "metadata": {},
   "source": [
    "# 出現次數  {次數}  {最少次數, 最多次數}"
   ]
  },
  {
   "cell_type": "code",
   "execution_count": 26,
   "metadata": {},
   "outputs": [
    {
     "name": "stdout",
     "output_type": "stream",
     "text": [
      "['ll']\n"
     ]
    }
   ],
   "source": [
    "pattern = r'l{2}'\n",
    "string = \"Hello World\"\n",
    "match = re.findall(pattern, string)\n",
    "print(match)"
   ]
  },
  {
   "cell_type": "code",
   "execution_count": 27,
   "metadata": {},
   "outputs": [
    {
     "name": "stdout",
     "output_type": "stream",
     "text": [
      "['ll', 'l']\n"
     ]
    }
   ],
   "source": [
    "pattern = r'l{1,}'\n",
    "string = \"Hello World\"\n",
    "match = re.findall(pattern, string)\n",
    "print(match)"
   ]
  },
  {
   "cell_type": "markdown",
   "metadata": {},
   "source": [
    "# 頭尾      \n",
    "^ 開頭\n",
    "$ 結尾\n",
    "\n",
    "在多個字元裡，也就是用 [] 包起來的，是指 not，比如 [^0-9] 代表不是數字"
   ]
  },
  {
   "cell_type": "code",
   "execution_count": 29,
   "metadata": {},
   "outputs": [
    {
     "name": "stdout",
     "output_type": "stream",
     "text": [
      "['He']\n"
     ]
    }
   ],
   "source": [
    "pattern = r'^He'\n",
    "string = \"Hello Hello\"\n",
    "match = re.findall(pattern, string)\n",
    "print(match)"
   ]
  },
  {
   "cell_type": "code",
   "execution_count": 30,
   "metadata": {},
   "outputs": [
    {
     "name": "stdout",
     "output_type": "stream",
     "text": [
      "['llo']\n"
     ]
    }
   ],
   "source": [
    "pattern = r'llo$'\n",
    "string = \"Hello Hello\"\n",
    "match = re.findall(pattern, string)\n",
    "print(match)"
   ]
  },
  {
   "cell_type": "code",
   "execution_count": 32,
   "metadata": {},
   "outputs": [
    {
     "name": "stdout",
     "output_type": "stream",
     "text": [
      "['Hello Hello']\n"
     ]
    }
   ],
   "source": [
    "pattern = r'^He.*llo$'   # .* 代表任意字元無數次\n",
    "string = \"Hello Hello\"\n",
    "match = re.findall(pattern, string)\n",
    "print(match)"
   ]
  },
  {
   "cell_type": "markdown",
   "metadata": {},
   "source": [
    "# 或 (以單字為單元，並且前面符合就不會往後面看)"
   ]
  },
  {
   "cell_type": "code",
   "execution_count": 39,
   "metadata": {},
   "outputs": [
    {
     "name": "stdout",
     "output_type": "stream",
     "text": [
      "['and', 'and']\n"
     ]
    }
   ],
   "source": [
    "pattern = r'and|android' # 前面先符合就會先被選走\n",
    "string = \"iOS and android\"\n",
    "match = re.findall(pattern, string)\n",
    "print(match)"
   ]
  },
  {
   "cell_type": "code",
   "execution_count": 40,
   "metadata": {},
   "outputs": [
    {
     "name": "stdout",
     "output_type": "stream",
     "text": [
      "['and ']\n"
     ]
    }
   ],
   "source": [
    "pattern = r'and | android' # 含空白，因為後面 android 也要含空白，空白已被前面 \"and \" 選走，所以選取不到\n",
    "string = \"iOS and android\"\n",
    "match = re.findall(pattern, string)\n",
    "print(match)"
   ]
  },
  {
   "cell_type": "code",
   "execution_count": 41,
   "metadata": {},
   "outputs": [
    {
     "name": "stdout",
     "output_type": "stream",
     "text": [
      "['and ', 'android']\n"
     ]
    }
   ],
   "source": [
    "pattern = r'and |android' # 含空白，後面 android 不含空白，所以就選到了\n",
    "string = \"iOS and android\"\n",
    "match = re.findall(pattern, string)\n",
    "print(match)"
   ]
  },
  {
   "cell_type": "code",
   "execution_count": 43,
   "metadata": {},
   "outputs": [
    {
     "name": "stdout",
     "output_type": "stream",
     "text": [
      "['and', 'android']\n"
     ]
    }
   ],
   "source": [
    "pattern = r'android|and' # 最正確的版本，比較精準的放前面，注意不要有空白\n",
    "string = \"iOS and android\"\n",
    "match = re.findall(pattern, string)\n",
    "print(match)"
   ]
  },
  {
   "cell_type": "markdown",
   "metadata": {},
   "source": [
    "# 常用例子 - 西元生日  =>  1996-08-06"
   ]
  },
  {
   "cell_type": "code",
   "execution_count": 47,
   "metadata": {},
   "outputs": [
    {
     "name": "stdout",
     "output_type": "stream",
     "text": [
      "['1996-08-06']\n"
     ]
    }
   ],
   "source": [
    "pattern = r'[1-9]\\d{3}-\\d{2}-\\d{2}' \n",
    "string = \"1996-08-06\"\n",
    "match = re.findall(pattern, string)\n",
    "print(match)"
   ]
  },
  {
   "cell_type": "markdown",
   "metadata": {},
   "source": [
    "# 常用例子 - 身分證字號  =>  A123456789"
   ]
  },
  {
   "cell_type": "code",
   "execution_count": 54,
   "metadata": {},
   "outputs": [
    {
     "name": "stdout",
     "output_type": "stream",
     "text": [
      "['A123456789']\n"
     ]
    }
   ],
   "source": [
    "pattern = r'^[A-Z]\\d{9}$' \n",
    "string = \"A123456789\"\n",
    "match = re.findall(pattern, string)\n",
    "print(match)"
   ]
  },
  {
   "cell_type": "markdown",
   "metadata": {},
   "source": [
    "# Gmail 信箱"
   ]
  },
  {
   "cell_type": "code",
   "execution_count": 62,
   "metadata": {},
   "outputs": [
    {
     "name": "stdout",
     "output_type": "stream",
     "text": [
      "['test123@gmail.com']\n"
     ]
    }
   ],
   "source": [
    "pattern = r'^\\w+@gmail\\.com$' \n",
    "string = \"test123@gmail.com\"\n",
    "match = re.findall(pattern, string)\n",
    "print(match)"
   ]
  },
  {
   "cell_type": "markdown",
   "metadata": {},
   "source": [
    "# 常用例子 - 四則運算  \"1+6/3-2\""
   ]
  },
  {
   "cell_type": "code",
   "execution_count": 63,
   "metadata": {},
   "outputs": [
    {
     "name": "stdout",
     "output_type": "stream",
     "text": [
      "['1+6/3-2']\n"
     ]
    }
   ],
   "source": [
    "pattern = r'^[\\d\\+\\-\\*\\/]*$' \n",
    "string = \"1+6/3-2\"\n",
    "match = re.findall(pattern, string)\n",
    "print(match)"
   ]
  },
  {
   "cell_type": "markdown",
   "metadata": {},
   "source": [
    "# 額外補充"
   ]
  },
  {
   "cell_type": "code",
   "execution_count": 72,
   "metadata": {},
   "outputs": [
    {
     "name": "stdout",
     "output_type": "stream",
     "text": [
      "['a']\n"
     ]
    }
   ],
   "source": [
    "# \\b  boundary\n",
    "pattern = r'\\ba\\b' \n",
    "string = \"This is a apple\"\n",
    "match = re.findall(pattern, string)\n",
    "print(match)"
   ]
  },
  {
   "cell_type": "code",
   "execution_count": 69,
   "metadata": {},
   "outputs": [
    {
     "name": "stdout",
     "output_type": "stream",
     "text": [
      "['a', 'apple']\n"
     ]
    }
   ],
   "source": [
    "# 符合 a 的單字都挑出來 (左右兩邊只要不是空白的任意個)\n",
    "pattern = r'\\S*a\\S*' \n",
    "string = \"This is a apple\"\n",
    "match = re.findall(pattern, string)\n",
    "print(match)"
   ]
  },
  {
   "cell_type": "code",
   "execution_count": 71,
   "metadata": {},
   "outputs": [
    {
     "name": "stdout",
     "output_type": "stream",
     "text": [
      "['a', 'apple']\n"
     ]
    }
   ],
   "source": [
    "# 符合 a 的單字都挑出來  (左右兩邊只要是字的任意個)\n",
    "pattern = r'\\w*a\\w*' \n",
    "string = \"This is a apple\"\n",
    "match = re.findall(pattern, string)\n",
    "print(match)"
   ]
  },
  {
   "cell_type": "markdown",
   "metadata": {},
   "source": [
    "# 字串取代"
   ]
  },
  {
   "cell_type": "code",
   "execution_count": 76,
   "metadata": {},
   "outputs": [
    {
     "name": "stdout",
     "output_type": "stream",
     "text": [
      "baNANA\n"
     ]
    }
   ],
   "source": [
    "import re\n",
    "\n",
    "string = 'bananb'\n",
    "string = re.sub(r'n.', 'NA', string)\n",
    "print(string)"
   ]
  },
  {
   "cell_type": "code",
   "execution_count": 79,
   "metadata": {},
   "outputs": [
    {
     "name": "stdout",
     "output_type": "stream",
     "text": [
      "baNA\n"
     ]
    }
   ],
   "source": [
    "import re\n",
    "\n",
    "string = 'bananb'\n",
    "string = re.sub(r'n.*', 'NA', string)\n",
    "print(string)"
   ]
  },
  {
   "cell_type": "markdown",
   "metadata": {},
   "source": [
    "# 選取 - 除了 match 還放進一個變數"
   ]
  },
  {
   "cell_type": "code",
   "execution_count": 84,
   "metadata": {},
   "outputs": [
    {
     "name": "stdout",
     "output_type": "stream",
     "text": [
      "appl\n"
     ]
    }
   ],
   "source": [
    "string = 'apple'\n",
    "string = re.sub(r'(a.)(p.)e', r'\\1\\2', string)\n",
    "print(string)"
   ]
  },
  {
   "cell_type": "code",
   "execution_count": 90,
   "metadata": {},
   "outputs": [
    {
     "name": "stdout",
     "output_type": "stream",
     "text": [
      "apap\n"
     ]
    }
   ],
   "source": [
    "string = 'apple'\n",
    "string = re.sub(r'(a.)(p.)e', r'\\1\\1', string)\n",
    "print(string)"
   ]
  },
  {
   "cell_type": "code",
   "execution_count": 100,
   "metadata": {},
   "outputs": [
    {
     "name": "stdout",
     "output_type": "stream",
     "text": [
      "201705\n"
     ]
    }
   ],
   "source": [
    "string = '2017/05/16'\n",
    "string = re.sub(r'(\\d{4})\\/(\\d{2})\\/(\\d{2})', r'\\1\\2', string)\n",
    "print(string)"
   ]
  },
  {
   "cell_type": "code",
   "execution_count": 101,
   "metadata": {},
   "outputs": [
    {
     "name": "stdout",
     "output_type": "stream",
     "text": [
      "<span> 123 </span>\n"
     ]
    }
   ],
   "source": [
    "string = \"<div> 123 </div>\"\n",
    "string = re.sub(r'(<\\/?)(div)(>)', r'\\1span\\3', string)\n",
    "print(string)"
   ]
  },
  {
   "cell_type": "markdown",
   "metadata": {},
   "source": [
    "# 列出 579 結尾的檔案\n",
    "ls -l | grep '[579]$'"
   ]
  },
  {
   "cell_type": "code",
   "execution_count": null,
   "metadata": {},
   "outputs": [],
   "source": []
  },
  {
   "cell_type": "code",
   "execution_count": null,
   "metadata": {},
   "outputs": [],
   "source": []
  },
  {
   "cell_type": "code",
   "execution_count": null,
   "metadata": {},
   "outputs": [],
   "source": []
  },
  {
   "cell_type": "code",
   "execution_count": null,
   "metadata": {},
   "outputs": [],
   "source": []
  },
  {
   "cell_type": "code",
   "execution_count": null,
   "metadata": {},
   "outputs": [],
   "source": []
  },
  {
   "cell_type": "code",
   "execution_count": null,
   "metadata": {},
   "outputs": [],
   "source": []
  },
  {
   "cell_type": "code",
   "execution_count": null,
   "metadata": {},
   "outputs": [],
   "source": []
  }
 ],
 "metadata": {
  "kernelspec": {
   "display_name": "Python 3",
   "language": "python",
   "name": "python3"
  },
  "language_info": {
   "codemirror_mode": {
    "name": "ipython",
    "version": 3
   },
   "file_extension": ".py",
   "mimetype": "text/x-python",
   "name": "python",
   "nbconvert_exporter": "python",
   "pygments_lexer": "ipython3",
   "version": "3.6.3"
  }
 },
 "nbformat": 4,
 "nbformat_minor": 2
}
